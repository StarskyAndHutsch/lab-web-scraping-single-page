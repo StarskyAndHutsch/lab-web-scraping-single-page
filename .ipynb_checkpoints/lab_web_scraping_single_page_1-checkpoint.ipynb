{
 "cells": [
  {
   "cell_type": "markdown",
   "id": "586f7e43",
   "metadata": {},
   "source": [
    "# Lab | API wrappers - Create your collection of songs & audio features"
   ]
  },
  {
   "cell_type": "markdown",
   "id": "a47c92b6",
   "metadata": {},
   "source": [
    "''' \n",
    "Instructions\n",
    "\n",
    "To move forward with the project, you need to create a collection of songs with their audio features - as large as possible!\n",
    "\n",
    "These are the songs that we will cluster. And, later, when the user inputs a song, we will find the cluster to which the song belongs and recommend a song from the same cluster. The more songs you have, the more accurate and diverse recommendations you'll be able to give. Although... you might want to make sure the collected songs are \"curated\" in a certain way. Try to find playlists of songs that are diverse, but also that meet certain standards.\n",
    "\n",
    "The process of sending hundreds or thousands of requests can take some time - it's normal if you have to wait a few minutes (or, if you're ambitious, even hours) to get all the data you need.\n",
    "\n",
    "An idea for collecting as many songs as possible is to start with all the songs of a big, diverse playlist and then go to every artist present in the playlist and grab every song of every album of that artist. The amount of songs you'll be collecting per playlist will grow exponentially!\n",
    "'''"
   ]
  },
  {
   "cell_type": "markdown",
   "id": "cd80885e",
   "metadata": {},
   "source": [
    "## EXECUTING THE CONNECTION TO THE SPOTIFY API"
   ]
  },
  {
   "cell_type": "code",
   "execution_count": 64,
   "id": "db31a8ea",
   "metadata": {},
   "outputs": [],
   "source": [
    "#!pip install spotipy"
   ]
  },
  {
   "cell_type": "code",
   "execution_count": 65,
   "id": "a1a187cc",
   "metadata": {},
   "outputs": [],
   "source": [
    "#pip install git+https://github.com/plamere/spotipy.git --upgrade"
   ]
  },
  {
   "cell_type": "code",
   "execution_count": 66,
   "id": "92be364d",
   "metadata": {},
   "outputs": [
    {
     "name": "stdout",
     "output_type": "stream",
     "text": [
      "Name: spotipy\n",
      "Version: 2.20.0\n",
      "Summary: A light weight Python library for the Spotify Web API\n",
      "Home-page: https://spotipy.readthedocs.org/\n",
      "Author: @plamere\n",
      "Author-email: paul@echonest.com\n",
      "License: MIT\n",
      "Location: /Users/patrickhutsch/opt/anaconda3/lib/python3.9/site-packages\n",
      "Requires: redis, requests, urllib3, six\n",
      "Required-by: \n",
      "Note: you may need to restart the kernel to use updated packages.\n"
     ]
    }
   ],
   "source": [
    "pip show spotipy"
   ]
  },
  {
   "cell_type": "code",
   "execution_count": 67,
   "id": "1ce63460",
   "metadata": {},
   "outputs": [],
   "source": [
    "import spotipy\n",
    "import pandas as pd\n",
    "from spotipy.oauth2 import SpotifyOAuth\n",
    "from spotipy.oauth2 import SpotifyClientCredentials"
   ]
  },
  {
   "cell_type": "code",
   "execution_count": 68,
   "id": "646f761e",
   "metadata": {},
   "outputs": [],
   "source": [
    "secrets_file = open(\"secrets.txt\",\"r\") #\"r\" is for reading"
   ]
  },
  {
   "cell_type": "code",
   "execution_count": 69,
   "id": "2b37e6b8",
   "metadata": {},
   "outputs": [],
   "source": [
    "string = secrets_file.read()"
   ]
  },
  {
   "cell_type": "raw",
   "id": "9c8193bc",
   "metadata": {},
   "source": [
    "string"
   ]
  },
  {
   "cell_type": "code",
   "execution_count": 70,
   "id": "4619c271",
   "metadata": {},
   "outputs": [
    {
     "data": {
      "text/plain": [
       "['Client_ID 8dc9fc43c4744ee6ae25ea6d08192e89',\n",
       " 'Client_Secret 5ab44f1575544a72b831880e62af238c']"
      ]
     },
     "execution_count": 70,
     "metadata": {},
     "output_type": "execute_result"
    }
   ],
   "source": [
    "string.split('\\n')"
   ]
  },
  {
   "cell_type": "code",
   "execution_count": 71,
   "id": "c418ba12",
   "metadata": {},
   "outputs": [],
   "source": [
    "secrets_dict={}\n",
    "for line in string.split('\\n'):\n",
    "    if len(line) > 0:\n",
    "        #print(line.split(' '))\n",
    "        secrets_dict[line.split(' ')[0]]=line.split(' ')[1]"
   ]
  },
  {
   "cell_type": "code",
   "execution_count": 72,
   "id": "1d38bc7c",
   "metadata": {},
   "outputs": [
    {
     "data": {
      "text/plain": [
       "{'Client_ID': '8dc9fc43c4744ee6ae25ea6d08192e89',\n",
       " 'Client_Secret': '5ab44f1575544a72b831880e62af238c'}"
      ]
     },
     "execution_count": 72,
     "metadata": {},
     "output_type": "execute_result"
    }
   ],
   "source": [
    "secrets_dict"
   ]
  },
  {
   "cell_type": "code",
   "execution_count": 73,
   "id": "cba9a699",
   "metadata": {},
   "outputs": [],
   "source": [
    "#selected_playlist['items'][0]['track']['artists'][0]['name']"
   ]
  },
  {
   "cell_type": "code",
   "execution_count": 74,
   "id": "c8eea55d",
   "metadata": {},
   "outputs": [],
   "source": [
    "#Initialize SpotiPy with user credentials\n",
    "sp = spotipy.Spotify(auth_manager=SpotifyClientCredentials(client_id='8dc9fc43c4744ee6ae25ea6d08192e89',\n",
    "                                                           client_secret='5ab44f1575544a72b831880e62af238c'))"
   ]
  },
  {
   "cell_type": "code",
   "execution_count": 75,
   "id": "4bf5c7a6",
   "metadata": {},
   "outputs": [],
   "source": [
    "#playlist = sp.user_playlist_tracks(\"spotify\", \"6m1CMqjxkyQNqXupvYvAqF\")"
   ]
  },
  {
   "cell_type": "markdown",
   "id": "5630623d",
   "metadata": {},
   "source": [
    "## DOWNLOADING A PLAYLIST FROM THE SPOTIFY API"
   ]
  },
  {
   "cell_type": "markdown",
   "id": "dce94f16",
   "metadata": {},
   "source": [
    "## Audio Features for the Songs"
   ]
  },
  {
   "cell_type": "code",
   "execution_count": 79,
   "id": "92254583",
   "metadata": {},
   "outputs": [
    {
     "ename": "AttributeError",
     "evalue": "'Spotify' object has no attribute 'get_access_token'",
     "output_type": "error",
     "traceback": [
      "\u001b[0;31m---------------------------------------------------------------------------\u001b[0m",
      "\u001b[0;31mAttributeError\u001b[0m                            Traceback (most recent call last)",
      "Input \u001b[0;32mIn [79]\u001b[0m, in \u001b[0;36m<cell line: 36>\u001b[0;34m()\u001b[0m\n\u001b[1;32m     32\u001b[0m         counter \u001b[38;5;241m+\u001b[39m\u001b[38;5;241m=\u001b[39m \u001b[38;5;241m1\u001b[39m\n\u001b[1;32m     34\u001b[0m     \u001b[38;5;28;01mreturn\u001b[39;00m songs, columns\n\u001b[0;32m---> 36\u001b[0m songs_data, songs_features \u001b[38;5;241m=\u001b[39m \u001b[43mplaylist_audio_features\u001b[49m\u001b[43m(\u001b[49m\u001b[43m)\u001b[49m\n\u001b[1;32m     37\u001b[0m songs_data_df \u001b[38;5;241m=\u001b[39m pd\u001b[38;5;241m.\u001b[39mDataFrame(songs_data, columns \u001b[38;5;241m=\u001b[39m songs_features)\n",
      "Input \u001b[0;32mIn [79]\u001b[0m, in \u001b[0;36mplaylist_audio_features\u001b[0;34m()\u001b[0m\n\u001b[1;32m      5\u001b[0m songs \u001b[38;5;241m=\u001b[39m \u001b[38;5;28mlist\u001b[39m()\n\u001b[1;32m      6\u001b[0m columns \u001b[38;5;241m=\u001b[39m [\u001b[38;5;124m'\u001b[39m\u001b[38;5;124msong\u001b[39m\u001b[38;5;124m'\u001b[39m, \u001b[38;5;124m'\u001b[39m\u001b[38;5;124martist\u001b[39m\u001b[38;5;124m'\u001b[39m]\n\u001b[0;32m----> 7\u001b[0m audio_columns \u001b[38;5;241m=\u001b[39m \u001b[38;5;28mlist\u001b[39m(\u001b[43mspotify_wrapper\u001b[49m\u001b[38;5;241;43m.\u001b[39;49m\u001b[43maudio_features\u001b[49m\u001b[43m(\u001b[49m\u001b[43mplaylist\u001b[49m\u001b[43m[\u001b[49m\u001b[38;5;124;43m'\u001b[39;49m\u001b[38;5;124;43mitems\u001b[39;49m\u001b[38;5;124;43m'\u001b[39;49m\u001b[43m]\u001b[49m\u001b[43m[\u001b[49m\u001b[38;5;241;43m0\u001b[39;49m\u001b[43m]\u001b[49m\u001b[43m[\u001b[49m\u001b[38;5;124;43m'\u001b[39;49m\u001b[38;5;124;43mtrack\u001b[39;49m\u001b[38;5;124;43m'\u001b[39;49m\u001b[43m]\u001b[49m\u001b[43m[\u001b[49m\u001b[38;5;124;43m'\u001b[39;49m\u001b[38;5;124;43muri\u001b[39;49m\u001b[38;5;124;43m'\u001b[39;49m\u001b[43m]\u001b[49m\u001b[43m)\u001b[49m[\u001b[38;5;241m0\u001b[39m]\u001b[38;5;241m.\u001b[39mkeys())\n\u001b[1;32m      9\u001b[0m \u001b[38;5;28;01mfor\u001b[39;00m column \u001b[38;5;129;01min\u001b[39;00m audio_columns:\n\u001b[1;32m     10\u001b[0m     columns\u001b[38;5;241m.\u001b[39mappend(column)\n",
      "File \u001b[0;32m~/opt/anaconda3/lib/python3.9/site-packages/spotipy/client.py:1680\u001b[0m, in \u001b[0;36mSpotify.audio_features\u001b[0;34m(self, tracks)\u001b[0m\n\u001b[1;32m   1678\u001b[0m \u001b[38;5;28;01mif\u001b[39;00m \u001b[38;5;28misinstance\u001b[39m(tracks, \u001b[38;5;28mstr\u001b[39m):\n\u001b[1;32m   1679\u001b[0m     trackid \u001b[38;5;241m=\u001b[39m \u001b[38;5;28mself\u001b[39m\u001b[38;5;241m.\u001b[39m_get_id(\u001b[38;5;124m\"\u001b[39m\u001b[38;5;124mtrack\u001b[39m\u001b[38;5;124m\"\u001b[39m, tracks)\n\u001b[0;32m-> 1680\u001b[0m     results \u001b[38;5;241m=\u001b[39m \u001b[38;5;28;43mself\u001b[39;49m\u001b[38;5;241;43m.\u001b[39;49m\u001b[43m_get\u001b[49m\u001b[43m(\u001b[49m\u001b[38;5;124;43m\"\u001b[39;49m\u001b[38;5;124;43maudio-features/?ids=\u001b[39;49m\u001b[38;5;124;43m\"\u001b[39;49m\u001b[43m \u001b[49m\u001b[38;5;241;43m+\u001b[39;49m\u001b[43m \u001b[49m\u001b[43mtrackid\u001b[49m\u001b[43m)\u001b[49m\n\u001b[1;32m   1681\u001b[0m \u001b[38;5;28;01melse\u001b[39;00m:\n\u001b[1;32m   1682\u001b[0m     tlist \u001b[38;5;241m=\u001b[39m [\u001b[38;5;28mself\u001b[39m\u001b[38;5;241m.\u001b[39m_get_id(\u001b[38;5;124m\"\u001b[39m\u001b[38;5;124mtrack\u001b[39m\u001b[38;5;124m\"\u001b[39m, t) \u001b[38;5;28;01mfor\u001b[39;00m t \u001b[38;5;129;01min\u001b[39;00m tracks]\n",
      "File \u001b[0;32m~/opt/anaconda3/lib/python3.9/site-packages/spotipy/client.py:297\u001b[0m, in \u001b[0;36mSpotify._get\u001b[0;34m(self, url, args, payload, **kwargs)\u001b[0m\n\u001b[1;32m    294\u001b[0m \u001b[38;5;28;01mif\u001b[39;00m args:\n\u001b[1;32m    295\u001b[0m     kwargs\u001b[38;5;241m.\u001b[39mupdate(args)\n\u001b[0;32m--> 297\u001b[0m \u001b[38;5;28;01mreturn\u001b[39;00m \u001b[38;5;28;43mself\u001b[39;49m\u001b[38;5;241;43m.\u001b[39;49m\u001b[43m_internal_call\u001b[49m\u001b[43m(\u001b[49m\u001b[38;5;124;43m\"\u001b[39;49m\u001b[38;5;124;43mGET\u001b[39;49m\u001b[38;5;124;43m\"\u001b[39;49m\u001b[43m,\u001b[49m\u001b[43m \u001b[49m\u001b[43murl\u001b[49m\u001b[43m,\u001b[49m\u001b[43m \u001b[49m\u001b[43mpayload\u001b[49m\u001b[43m,\u001b[49m\u001b[43m \u001b[49m\u001b[43mkwargs\u001b[49m\u001b[43m)\u001b[49m\n",
      "File \u001b[0;32m~/opt/anaconda3/lib/python3.9/site-packages/spotipy/client.py:221\u001b[0m, in \u001b[0;36mSpotify._internal_call\u001b[0;34m(self, method, url, payload, params)\u001b[0m\n\u001b[1;32m    219\u001b[0m \u001b[38;5;28;01mif\u001b[39;00m \u001b[38;5;129;01mnot\u001b[39;00m url\u001b[38;5;241m.\u001b[39mstartswith(\u001b[38;5;124m\"\u001b[39m\u001b[38;5;124mhttp\u001b[39m\u001b[38;5;124m\"\u001b[39m):\n\u001b[1;32m    220\u001b[0m     url \u001b[38;5;241m=\u001b[39m \u001b[38;5;28mself\u001b[39m\u001b[38;5;241m.\u001b[39mprefix \u001b[38;5;241m+\u001b[39m url\n\u001b[0;32m--> 221\u001b[0m headers \u001b[38;5;241m=\u001b[39m \u001b[38;5;28;43mself\u001b[39;49m\u001b[38;5;241;43m.\u001b[39;49m\u001b[43m_auth_headers\u001b[49m\u001b[43m(\u001b[49m\u001b[43m)\u001b[49m\n\u001b[1;32m    223\u001b[0m \u001b[38;5;28;01mif\u001b[39;00m \u001b[38;5;124m\"\u001b[39m\u001b[38;5;124mcontent_type\u001b[39m\u001b[38;5;124m\"\u001b[39m \u001b[38;5;129;01min\u001b[39;00m args[\u001b[38;5;124m\"\u001b[39m\u001b[38;5;124mparams\u001b[39m\u001b[38;5;124m\"\u001b[39m]:\n\u001b[1;32m    224\u001b[0m     headers[\u001b[38;5;124m\"\u001b[39m\u001b[38;5;124mContent-Type\u001b[39m\u001b[38;5;124m\"\u001b[39m] \u001b[38;5;241m=\u001b[39m args[\u001b[38;5;124m\"\u001b[39m\u001b[38;5;124mparams\u001b[39m\u001b[38;5;124m\"\u001b[39m][\u001b[38;5;124m\"\u001b[39m\u001b[38;5;124mcontent_type\u001b[39m\u001b[38;5;124m\"\u001b[39m]\n",
      "File \u001b[0;32m~/opt/anaconda3/lib/python3.9/site-packages/spotipy/client.py:212\u001b[0m, in \u001b[0;36mSpotify._auth_headers\u001b[0;34m(self)\u001b[0m\n\u001b[1;32m    210\u001b[0m     \u001b[38;5;28;01mreturn\u001b[39;00m {}\n\u001b[1;32m    211\u001b[0m \u001b[38;5;28;01mtry\u001b[39;00m:\n\u001b[0;32m--> 212\u001b[0m     token \u001b[38;5;241m=\u001b[39m \u001b[38;5;28;43mself\u001b[39;49m\u001b[38;5;241;43m.\u001b[39;49m\u001b[43mauth_manager\u001b[49m\u001b[38;5;241;43m.\u001b[39;49m\u001b[43mget_access_token\u001b[49m(as_dict\u001b[38;5;241m=\u001b[39m\u001b[38;5;28;01mFalse\u001b[39;00m)\n\u001b[1;32m    213\u001b[0m \u001b[38;5;28;01mexcept\u001b[39;00m \u001b[38;5;167;01mTypeError\u001b[39;00m:\n\u001b[1;32m    214\u001b[0m     token \u001b[38;5;241m=\u001b[39m \u001b[38;5;28mself\u001b[39m\u001b[38;5;241m.\u001b[39mauth_manager\u001b[38;5;241m.\u001b[39mget_access_token()\n",
      "\u001b[0;31mAttributeError\u001b[0m: 'Spotify' object has no attribute 'get_access_token'"
     ]
    }
   ],
   "source": [
    "def playlist_audio_features():\n",
    "\n",
    "    playlist = sp.user_playlist_tracks(\"spotify\", \"1G8IpkZKobrIlXcVPoSIuf\")\n",
    "\n",
    "    songs = list()\n",
    "    columns = ['song', 'artist']\n",
    "    audio_columns = list(spotify_wrapper.audio_features(playlist['items'][0]['track']['uri'])[0].keys())\n",
    "\n",
    "    for column in audio_columns:\n",
    "        columns.append(column)\n",
    "\n",
    "    counter = 0\n",
    "\n",
    "    while playlist['next']:\n",
    "\n",
    "        for song in range(len(playlist['items'])):\n",
    "\n",
    "            song_data = list()\n",
    "            song_name = playlist['items'][song]['track']['name']\n",
    "            artist_name = playlist['items'][song]['track']['artists'][0]['name']\n",
    "            song_features = spotify_wrapper.audio_features(playlist['items'][song]['track']['uri'])\n",
    "\n",
    "            if song_features != [None]:\n",
    "                song_data.append(song_name)\n",
    "                song_data.append(artist_name)\n",
    "                for feature in list(song_features[0].values()):\n",
    "                    song_data.append(feature)\n",
    "                songs.append(song_data)\n",
    "\n",
    "        playlist = spotify_wrapper.next(playlist)\n",
    "\n",
    "        counter += 1\n",
    "\n",
    "    return songs, columns\n",
    "\n",
    "songs_data, songs_features = playlist_audio_features()\n",
    "songs_data_df = pd.DataFrame(songs_data, columns = songs_features)\n",
    "# songs_data_df.to_csv('spotify_songs_data.csv', index = False)"
   ]
  },
  {
   "cell_type": "code",
   "execution_count": null,
   "id": "179d07d8",
   "metadata": {},
   "outputs": [],
   "source": [
    "songs_data_df.to_csv('spotify_songs_data.csv', index = False)"
   ]
  },
  {
   "cell_type": "code",
   "execution_count": null,
   "id": "4f22027b",
   "metadata": {},
   "outputs": [],
   "source": [
    "spotify_songs_data = pd.read_csv('spotify_songs_data.csv').dropna()"
   ]
  },
  {
   "cell_type": "code",
   "execution_count": null,
   "id": "48b6c3d4",
   "metadata": {},
   "outputs": [],
   "source": [
    "display(spotify_songs_data)"
   ]
  },
  {
   "cell_type": "code",
   "execution_count": null,
   "id": "6e167469",
   "metadata": {},
   "outputs": [],
   "source": [
    "spotify_songs_data_numerical = spotify_songs_data.drop(columns = ['mode', 'time_signature']).select_dtypes(include = np.number).dropna()\n",
    "scaler = StandardScaler().fit(spotify_songs_data_numerical)\n",
    "spotify_songs_data_numerical_array = scaler.transform(spotify_songs_data_numerical)\n",
    "spotify_songs_data_numerical_scaled = pd.DataFrame(spotify_songs_data_numerical_array, columns = spotify_songs_data_numerical.columns)\n",
    "pickle.dump(scaler, open('scaler.pkl', 'wb'))"
   ]
  }
 ],
 "metadata": {
  "kernelspec": {
   "display_name": "Python 3 (ipykernel)",
   "language": "python",
   "name": "python3"
  },
  "language_info": {
   "codemirror_mode": {
    "name": "ipython",
    "version": 3
   },
   "file_extension": ".py",
   "mimetype": "text/x-python",
   "name": "python",
   "nbconvert_exporter": "python",
   "pygments_lexer": "ipython3",
   "version": "3.9.12"
  }
 },
 "nbformat": 4,
 "nbformat_minor": 5
}
