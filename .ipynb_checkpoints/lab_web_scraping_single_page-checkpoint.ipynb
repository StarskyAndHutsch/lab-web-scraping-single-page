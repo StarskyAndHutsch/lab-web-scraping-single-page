{
 "cells": [
  {
   "cell_type": "markdown",
   "id": "28b91003",
   "metadata": {},
   "source": [
    "# Web Scraping Lab"
   ]
  },
  {
   "cell_type": "code",
   "execution_count": 1,
   "id": "a6e0bfdf",
   "metadata": {},
   "outputs": [
    {
     "data": {
      "text/plain": [
       "\"Dear xxxxxxxx,\\n\\nWe are thrilled to welcome you as a Data Analyst for Gnoosic!\\n\\nAs you know, we are trying to come up with ways to enhance our music recommendations. \\nOne of the new features we'd like to research is to recommend songs (not only bands). \\nWe're also aware of the limitations of our collaborative filtering algorithms, \\nand would like to give users two new possibilities when searching for recommendations:\\n\\n- Songs that are actually similar to the ones they picked from an acoustic point of view.\\n- Songs that are popular around the world right now, independently from their tastes.\\n\\nComing up with the perfect song recommender will take us months - no need to stress out too much. \\nIn this first week, we want you to explore new data sources for songs. \\nThe internet is full of information and our first step is to acquire it do an initial exploration. \\nFeel free to use APIs or directly scrape the web to collect as much information as possible from popular songs. \\nEventually, we'll need to collect data from millions of songs, but we can start with a few hundreds or thousands \\nfrom each source and see if the collected features are useful.\\xa0\\n\\nOnce the data is collected, we want you to create clusters of songs that are similar to each other. \\nThe idea is that if a user inputs a song from one group, we'll prioritize giving them recommendations \\nof songs from that same group.\\n\\nOn Friday, you will present your work to me and Marek, the CEO and founder. \\nFull disclosure: I need you to be very convincing about this whole song-recommender, \\nas this has been my personal push and the main reason we hired you for!\\n\\nBe open minded about this process: we are agile, and that means that we define our products and features \\non-the-go, while exploring the tools and the data that's available to us. We'd love you to provide your \\nown vision of the product and the next steps to be taken.\\n\\nLots of luck and strength for this first week with us!\\n\\nJane\\n\""
      ]
     },
     "execution_count": 1,
     "metadata": {},
     "output_type": "execute_result"
    }
   ],
   "source": [
    "'''Dear xxxxxxxx,\n",
    "\n",
    "We are thrilled to welcome you as a Data Analyst for Gnoosic!\n",
    "\n",
    "As you know, we are trying to come up with ways to enhance our music recommendations. \n",
    "One of the new features we'd like to research is to recommend songs (not only bands). \n",
    "We're also aware of the limitations of our collaborative filtering algorithms, \n",
    "and would like to give users two new possibilities when searching for recommendations:\n",
    "\n",
    "- Songs that are actually similar to the ones they picked from an acoustic point of view.\n",
    "- Songs that are popular around the world right now, independently from their tastes.\n",
    "\n",
    "Coming up with the perfect song recommender will take us months - no need to stress out too much. \n",
    "In this first week, we want you to explore new data sources for songs. \n",
    "The internet is full of information and our first step is to acquire it do an initial exploration. \n",
    "Feel free to use APIs or directly scrape the web to collect as much information as possible from popular songs. \n",
    "Eventually, we'll need to collect data from millions of songs, but we can start with a few hundreds or thousands \n",
    "from each source and see if the collected features are useful. \n",
    "\n",
    "Once the data is collected, we want you to create clusters of songs that are similar to each other. \n",
    "The idea is that if a user inputs a song from one group, we'll prioritize giving them recommendations \n",
    "of songs from that same group.\n",
    "\n",
    "On Friday, you will present your work to me and Marek, the CEO and founder. \n",
    "Full disclosure: I need you to be very convincing about this whole song-recommender, \n",
    "as this has been my personal push and the main reason we hired you for!\n",
    "\n",
    "Be open minded about this process: we are agile, and that means that we define our products and features \n",
    "on-the-go, while exploring the tools and the data that's available to us. We'd love you to provide your \n",
    "own vision of the product and the next steps to be taken.\n",
    "\n",
    "Lots of luck and strength for this first week with us!\n",
    "\n",
    "Jane\n",
    "'''"
   ]
  },
  {
   "cell_type": "markdown",
   "id": "72066e9d",
   "metadata": {},
   "source": [
    "## Importing the Libraries"
   ]
  },
  {
   "cell_type": "code",
   "execution_count": 2,
   "id": "60b94cec",
   "metadata": {},
   "outputs": [],
   "source": [
    "from bs4 import BeautifulSoup\n",
    "import requests\n",
    "import pandas as pd\n",
    "from tqdm.notebook import tqdm"
   ]
  },
  {
   "cell_type": "markdown",
   "id": "4258ded4",
   "metadata": {},
   "source": [
    "## Storing and reading the webpage"
   ]
  },
  {
   "cell_type": "code",
   "execution_count": 3,
   "id": "8a8c0b06",
   "metadata": {},
   "outputs": [],
   "source": [
    "# find url and store it in a variable\n",
    "url = \"https://www.popvortex.com/music/charts/top-100-songs.php\""
   ]
  },
  {
   "cell_type": "code",
   "execution_count": 4,
   "id": "a19a7a84",
   "metadata": {},
   "outputs": [
    {
     "data": {
      "text/plain": [
       "200"
      ]
     },
     "execution_count": 4,
     "metadata": {},
     "output_type": "execute_result"
    }
   ],
   "source": [
    "# download html with a get request\n",
    "response = requests.get(url)\n",
    "response.status_code # 200 status code means OK!"
   ]
  },
  {
   "cell_type": "code",
   "execution_count": 5,
   "id": "69ca2395",
   "metadata": {},
   "outputs": [],
   "source": [
    "# parse html (create the 'soup')\n",
    "soup = BeautifulSoup(response.content, \"html.parser\")"
   ]
  },
  {
   "cell_type": "code",
   "execution_count": 6,
   "id": "894f92d2",
   "metadata": {},
   "outputs": [],
   "source": [
    "# The artist list\n",
    "artist = []\n",
    "\n",
    "for i in soup.select('.artist'):\n",
    "    artist.append(i.get_text())"
   ]
  },
  {
   "cell_type": "code",
   "execution_count": 7,
   "id": "d55a68cc",
   "metadata": {},
   "outputs": [],
   "source": [
    "# The song list\n",
    "title = []\n",
    "\n",
    "for i in soup.select('.title'):\n",
    "    title.append(i.get_text())"
   ]
  },
  {
   "cell_type": "code",
   "execution_count": 8,
   "id": "3cd2831f",
   "metadata": {},
   "outputs": [
    {
     "data": {
      "text/html": [
       "<div>\n",
       "<style scoped>\n",
       "    .dataframe tbody tr th:only-of-type {\n",
       "        vertical-align: middle;\n",
       "    }\n",
       "\n",
       "    .dataframe tbody tr th {\n",
       "        vertical-align: top;\n",
       "    }\n",
       "\n",
       "    .dataframe thead th {\n",
       "        text-align: right;\n",
       "    }\n",
       "</style>\n",
       "<table border=\"1\" class=\"dataframe\">\n",
       "  <thead>\n",
       "    <tr style=\"text-align: right;\">\n",
       "      <th></th>\n",
       "      <th>artist</th>\n",
       "      <th>title</th>\n",
       "    </tr>\n",
       "  </thead>\n",
       "  <tbody>\n",
       "    <tr>\n",
       "      <th>0</th>\n",
       "      <td>Sam Smith &amp; Kim Petras</td>\n",
       "      <td>Unholy</td>\n",
       "    </tr>\n",
       "    <tr>\n",
       "      <th>1</th>\n",
       "      <td>Transformation Worship</td>\n",
       "      <td>Eagle (feat. KB)</td>\n",
       "    </tr>\n",
       "    <tr>\n",
       "      <th>2</th>\n",
       "      <td>David Guetta &amp; Bebe Rexha</td>\n",
       "      <td>I'm Good (Blue)</td>\n",
       "    </tr>\n",
       "    <tr>\n",
       "      <th>3</th>\n",
       "      <td>Fleetwood Mac</td>\n",
       "      <td>Everywhere</td>\n",
       "    </tr>\n",
       "    <tr>\n",
       "      <th>4</th>\n",
       "      <td>HARDY &amp; Lainey Wilson</td>\n",
       "      <td>wait in the truck</td>\n",
       "    </tr>\n",
       "    <tr>\n",
       "      <th>...</th>\n",
       "      <td>...</td>\n",
       "      <td>...</td>\n",
       "    </tr>\n",
       "    <tr>\n",
       "      <th>95</th>\n",
       "      <td>Auli'i Cravalho</td>\n",
       "      <td>How Far I'll Go</td>\n",
       "    </tr>\n",
       "    <tr>\n",
       "      <th>96</th>\n",
       "      <td>Bette Midler, Sarah Jessica Parker &amp; Kathy Najimy</td>\n",
       "      <td>One Way or Another (Hocus Pocus 2 Version)</td>\n",
       "    </tr>\n",
       "    <tr>\n",
       "      <th>97</th>\n",
       "      <td>Blasterjaxx &amp; Timmy Trumpet</td>\n",
       "      <td>Narco</td>\n",
       "    </tr>\n",
       "    <tr>\n",
       "      <th>98</th>\n",
       "      <td>Thomas Rhett</td>\n",
       "      <td>Half Of Me (feat. Riley Green)</td>\n",
       "    </tr>\n",
       "    <tr>\n",
       "      <th>99</th>\n",
       "      <td>J.Fla</td>\n",
       "      <td>Bedroom Singer</td>\n",
       "    </tr>\n",
       "  </tbody>\n",
       "</table>\n",
       "<p>100 rows × 2 columns</p>\n",
       "</div>"
      ],
      "text/plain": [
       "                                               artist  \\\n",
       "0                              Sam Smith & Kim Petras   \n",
       "1                              Transformation Worship   \n",
       "2                           David Guetta & Bebe Rexha   \n",
       "3                                       Fleetwood Mac   \n",
       "4                               HARDY & Lainey Wilson   \n",
       "..                                                ...   \n",
       "95                                    Auli'i Cravalho   \n",
       "96  Bette Midler, Sarah Jessica Parker & Kathy Najimy   \n",
       "97                        Blasterjaxx & Timmy Trumpet   \n",
       "98                                       Thomas Rhett   \n",
       "99                                              J.Fla   \n",
       "\n",
       "                                         title  \n",
       "0                                       Unholy  \n",
       "1                             Eagle (feat. KB)  \n",
       "2                              I'm Good (Blue)  \n",
       "3                                   Everywhere  \n",
       "4                            wait in the truck  \n",
       "..                                         ...  \n",
       "95                             How Far I'll Go  \n",
       "96  One Way or Another (Hocus Pocus 2 Version)  \n",
       "97                                       Narco  \n",
       "98              Half Of Me (feat. Riley Green)  \n",
       "99                              Bedroom Singer  \n",
       "\n",
       "[100 rows x 2 columns]"
      ]
     },
     "execution_count": 8,
     "metadata": {},
     "output_type": "execute_result"
    }
   ],
   "source": [
    "# Merging the lists into one DataFrame\n",
    "song1 = pd.DataFrame({\"artist\":artist,\n",
    "                       \"title\":title\n",
    "                      })\n",
    "song1"
   ]
  },
  {
   "cell_type": "code",
   "execution_count": 9,
   "id": "aefb8025",
   "metadata": {},
   "outputs": [
    {
     "name": "stdout",
     "output_type": "stream",
     "text": [
      "Sing a song for me:Unholy\n",
      "Pump up the volume and let us dance to Lose Yourself\n"
     ]
    }
   ],
   "source": [
    "import random\n",
    "var = input(\"Sing a song for me:\")\n",
    "random_name = random.choice(artist_song['title'])\n",
    "\n",
    "if var in song1['title'].values:\n",
    "    print(\"Pump up the volume and let us dance to\", random_name)\n",
    "else:\n",
    "    print(\"When the music is over ...\")"
   ]
  },
  {
   "cell_type": "code",
   "execution_count": 11,
   "id": "5b3ad1f4",
   "metadata": {},
   "outputs": [],
   "source": [
    "# save it as csv\n",
    "#top100.to_csv('top100.csv', index = False, header = True)"
   ]
  },
  {
   "cell_type": "markdown",
   "id": "a714691d",
   "metadata": {},
   "source": [
    "## LAB2"
   ]
  },
  {
   "cell_type": "markdown",
   "id": "9cf46ce1",
   "metadata": {},
   "source": [
    "## GETTING MORE SONGS "
   ]
  },
  {
   "cell_type": "code",
   "execution_count": 12,
   "id": "adf0c722",
   "metadata": {},
   "outputs": [],
   "source": [
    "# and again\n",
    "\n",
    "# find url and store it in a variable\n",
    "url = \"https://playback.fm/charts/rock/1980\""
   ]
  },
  {
   "cell_type": "code",
   "execution_count": 13,
   "id": "20d60224",
   "metadata": {},
   "outputs": [
    {
     "data": {
      "text/plain": [
       "200"
      ]
     },
     "execution_count": 13,
     "metadata": {},
     "output_type": "execute_result"
    }
   ],
   "source": [
    "# download html with a get request\n",
    "response = requests.get(url)\n",
    "response.status_code "
   ]
  },
  {
   "cell_type": "code",
   "execution_count": 14,
   "id": "3b801d52",
   "metadata": {},
   "outputs": [],
   "source": [
    "# parse html (create the soup)\n",
    "soup1 = BeautifulSoup(response.content, 'html.parser')\n",
    "\n",
    "# prettifying the soup \n",
    "#soup2.prettify"
   ]
  },
  {
   "cell_type": "code",
   "execution_count": 15,
   "id": "df13ea88",
   "metadata": {},
   "outputs": [
    {
     "name": "stdout",
     "output_type": "stream",
     "text": [
      "https://playback.fm/charts/rock1970\n",
      "https://playback.fm/charts/rock1971\n",
      "https://playback.fm/charts/rock1972\n",
      "https://playback.fm/charts/rock1973\n",
      "https://playback.fm/charts/rock1974\n",
      "https://playback.fm/charts/rock1975\n",
      "https://playback.fm/charts/rock1976\n",
      "https://playback.fm/charts/rock1977\n",
      "https://playback.fm/charts/rock1978\n",
      "https://playback.fm/charts/rock1979\n"
     ]
    }
   ],
   "source": [
    "iterations = range(1970, 1980, 1)\n",
    "#[i for i in iterations]\n",
    "for i in iterations:\n",
    "    start_at= str(i)\n",
    "    url1 = 'https://playback.fm/charts/rock' + start_at\n",
    "    print(url1)"
   ]
  },
  {
   "cell_type": "code",
   "execution_count": 16,
   "id": "3e20d6a7",
   "metadata": {},
   "outputs": [],
   "source": [
    "import random\n",
    "from time import sleep\n",
    "from random import randint"
   ]
  },
  {
   "cell_type": "code",
   "execution_count": 17,
   "id": "cc007279",
   "metadata": {},
   "outputs": [
    {
     "name": "stdout",
     "output_type": "stream",
     "text": [
      "Status code: 200\n",
      "Sing me to sleep ... 3 please wait.\n",
      "Status code: 200\n",
      "Sing me to sleep ... 3 please wait.\n",
      "Status code: 200\n",
      "Sing me to sleep ... 3 please wait.\n",
      "Status code: 200\n",
      "Sing me to sleep ... 1 please wait.\n",
      "Status code: 200\n",
      "Sing me to sleep ... 1 please wait.\n",
      "Status code: 200\n",
      "Sing me to sleep ... 1 please wait.\n",
      "Status code: 200\n",
      "Sing me to sleep ... 4 please wait.\n",
      "Status code: 200\n",
      "Sing me to sleep ... 2 please wait.\n",
      "Status code: 200\n",
      "Sing me to sleep ... 3 please wait.\n",
      "Status code: 200\n",
      "Sing me to sleep ... 2 please wait.\n"
     ]
    }
   ],
   "source": [
    "pages = []\n",
    "\n",
    "for i in iterations:\n",
    "    # assemble the url:\n",
    "    start_at= str(i)\n",
    "    url1 = 'https://playback.fm/charts/rock' + start_at\n",
    "\n",
    "    # download html with a get request:\n",
    "    response = requests.get(url1)\n",
    "    response = requests.get(url, headers = {\"Accept-Language\": \"en-US\"})\n",
    "\n",
    "    # monitor the process by printing the status code\n",
    "    print(\"Status code: \" + str(response.status_code))\n",
    "\n",
    "    # store response into \"pages\" list\n",
    "    pages.append(response)\n",
    "\n",
    "    # respectful nap:\n",
    "    wait_time = randint(1,4)\n",
    "    print(\"Sing me to sleep ... \" + str(wait_time) + \" please wait.\")\n",
    "    sleep(wait_time)"
   ]
  },
  {
   "cell_type": "code",
   "execution_count": 21,
   "id": "69a05e49",
   "metadata": {},
   "outputs": [],
   "source": [
    "# The artist list 2\n",
    "artist1 = []\n",
    "\n",
    "for i in range(len(pages)):\n",
    "    parsed = BeautifulSoup(pages[i].content, \"html.parser\")\n",
    "    artist_html = parsed.select('td:nth-child(2) > a')\n",
    "    for i in soup1.select('td:nth-child(2) > a'):\n",
    "        artist1.append(i.get_text())"
   ]
  },
  {
   "cell_type": "code",
   "execution_count": 22,
   "id": "3d4d4bf7",
   "metadata": {},
   "outputs": [],
   "source": [
    "# The song list 2\n",
    "title1 = []\n",
    "\n",
    "for i in range(len(pages)):\n",
    "    parsed = BeautifulSoup(pages[i].content, \"html.parser\")\n",
    "    title_html = parsed.select('td.mobile-hide > a > span.song')\n",
    "    for i in soup1.select('td.mobile-hide > a > span.song'):\n",
    "        title1.append(i.get_text())"
   ]
  },
  {
   "cell_type": "code",
   "execution_count": 23,
   "id": "2aba4131",
   "metadata": {},
   "outputs": [
    {
     "data": {
      "text/html": [
       "<div>\n",
       "<style scoped>\n",
       "    .dataframe tbody tr th:only-of-type {\n",
       "        vertical-align: middle;\n",
       "    }\n",
       "\n",
       "    .dataframe tbody tr th {\n",
       "        vertical-align: top;\n",
       "    }\n",
       "\n",
       "    .dataframe thead th {\n",
       "        text-align: right;\n",
       "    }\n",
       "</style>\n",
       "<table border=\"1\" class=\"dataframe\">\n",
       "  <thead>\n",
       "    <tr style=\"text-align: right;\">\n",
       "      <th></th>\n",
       "      <th>artist</th>\n",
       "      <th>title</th>\n",
       "    </tr>\n",
       "  </thead>\n",
       "  <tbody>\n",
       "    <tr>\n",
       "      <th>0</th>\n",
       "      <td>\\nREO Speedwagon\\n</td>\n",
       "      <td>Keep On Loving You</td>\n",
       "    </tr>\n",
       "    <tr>\n",
       "      <th>1</th>\n",
       "      <td>\\nThe Police\\n</td>\n",
       "      <td>Don't Stand So Close to Me</td>\n",
       "    </tr>\n",
       "    <tr>\n",
       "      <th>2</th>\n",
       "      <td>\\nPink Floyd\\n</td>\n",
       "      <td>Another Brick in the Wall</td>\n",
       "    </tr>\n",
       "    <tr>\n",
       "      <th>3</th>\n",
       "      <td>\\nThe J. Geils Band\\n</td>\n",
       "      <td>Love Stinks</td>\n",
       "    </tr>\n",
       "    <tr>\n",
       "      <th>4</th>\n",
       "      <td>\\nLipps, Inc\\n</td>\n",
       "      <td>Funkytown</td>\n",
       "    </tr>\n",
       "    <tr>\n",
       "      <th>...</th>\n",
       "      <td>...</td>\n",
       "      <td>...</td>\n",
       "    </tr>\n",
       "    <tr>\n",
       "      <th>995</th>\n",
       "      <td>\\nThe Police\\n</td>\n",
       "      <td>So Lonely</td>\n",
       "    </tr>\n",
       "    <tr>\n",
       "      <th>996</th>\n",
       "      <td>\\nSupertramp\\n</td>\n",
       "      <td>Dreamer</td>\n",
       "    </tr>\n",
       "    <tr>\n",
       "      <th>997</th>\n",
       "      <td>\\nGenesis\\n</td>\n",
       "      <td>Misunderstanding</td>\n",
       "    </tr>\n",
       "    <tr>\n",
       "      <th>998</th>\n",
       "      <td>\\nGenesis\\n</td>\n",
       "      <td>Turn It On Again</td>\n",
       "    </tr>\n",
       "    <tr>\n",
       "      <th>999</th>\n",
       "      <td>\\nDevo\\n</td>\n",
       "      <td>Whip It</td>\n",
       "    </tr>\n",
       "  </tbody>\n",
       "</table>\n",
       "<p>1000 rows × 2 columns</p>\n",
       "</div>"
      ],
      "text/plain": [
       "                    artist                       title\n",
       "0       \\nREO Speedwagon\\n          Keep On Loving You\n",
       "1           \\nThe Police\\n  Don't Stand So Close to Me\n",
       "2           \\nPink Floyd\\n   Another Brick in the Wall\n",
       "3    \\nThe J. Geils Band\\n                 Love Stinks\n",
       "4           \\nLipps, Inc\\n                   Funkytown\n",
       "..                     ...                         ...\n",
       "995         \\nThe Police\\n                   So Lonely\n",
       "996         \\nSupertramp\\n                     Dreamer\n",
       "997            \\nGenesis\\n            Misunderstanding\n",
       "998            \\nGenesis\\n            Turn It On Again\n",
       "999               \\nDevo\\n                     Whip It\n",
       "\n",
       "[1000 rows x 2 columns]"
      ]
     },
     "execution_count": 23,
     "metadata": {},
     "output_type": "execute_result"
    }
   ],
   "source": [
    "song2 = pd.DataFrame({\"artist\":artist1,\n",
    "                       \"title\":title1\n",
    "                      })\n",
    "song2"
   ]
  },
  {
   "cell_type": "code",
   "execution_count": 24,
   "id": "b2590be7",
   "metadata": {},
   "outputs": [
    {
     "data": {
      "text/html": [
       "<div>\n",
       "<style scoped>\n",
       "    .dataframe tbody tr th:only-of-type {\n",
       "        vertical-align: middle;\n",
       "    }\n",
       "\n",
       "    .dataframe tbody tr th {\n",
       "        vertical-align: top;\n",
       "    }\n",
       "\n",
       "    .dataframe thead th {\n",
       "        text-align: right;\n",
       "    }\n",
       "</style>\n",
       "<table border=\"1\" class=\"dataframe\">\n",
       "  <thead>\n",
       "    <tr style=\"text-align: right;\">\n",
       "      <th></th>\n",
       "      <th>artist</th>\n",
       "      <th>title</th>\n",
       "    </tr>\n",
       "  </thead>\n",
       "  <tbody>\n",
       "    <tr>\n",
       "      <th>0</th>\n",
       "      <td>REO Speedwagon</td>\n",
       "      <td>Keep On Loving You</td>\n",
       "    </tr>\n",
       "    <tr>\n",
       "      <th>1</th>\n",
       "      <td>The Police</td>\n",
       "      <td>Don't Stand So Close to Me</td>\n",
       "    </tr>\n",
       "    <tr>\n",
       "      <th>2</th>\n",
       "      <td>Pink Floyd</td>\n",
       "      <td>Another Brick in the Wall</td>\n",
       "    </tr>\n",
       "    <tr>\n",
       "      <th>3</th>\n",
       "      <td>The J. Geils Band</td>\n",
       "      <td>Love Stinks</td>\n",
       "    </tr>\n",
       "    <tr>\n",
       "      <th>4</th>\n",
       "      <td>Lipps, Inc</td>\n",
       "      <td>Funkytown</td>\n",
       "    </tr>\n",
       "    <tr>\n",
       "      <th>...</th>\n",
       "      <td>...</td>\n",
       "      <td>...</td>\n",
       "    </tr>\n",
       "    <tr>\n",
       "      <th>995</th>\n",
       "      <td>The Police</td>\n",
       "      <td>So Lonely</td>\n",
       "    </tr>\n",
       "    <tr>\n",
       "      <th>996</th>\n",
       "      <td>Supertramp</td>\n",
       "      <td>Dreamer</td>\n",
       "    </tr>\n",
       "    <tr>\n",
       "      <th>997</th>\n",
       "      <td>Genesis</td>\n",
       "      <td>Misunderstanding</td>\n",
       "    </tr>\n",
       "    <tr>\n",
       "      <th>998</th>\n",
       "      <td>Genesis</td>\n",
       "      <td>Turn It On Again</td>\n",
       "    </tr>\n",
       "    <tr>\n",
       "      <th>999</th>\n",
       "      <td>Devo</td>\n",
       "      <td>Whip It</td>\n",
       "    </tr>\n",
       "  </tbody>\n",
       "</table>\n",
       "<p>1000 rows × 2 columns</p>\n",
       "</div>"
      ],
      "text/plain": [
       "                artist                       title\n",
       "0       REO Speedwagon          Keep On Loving You\n",
       "1           The Police  Don't Stand So Close to Me\n",
       "2           Pink Floyd   Another Brick in the Wall\n",
       "3    The J. Geils Band                 Love Stinks\n",
       "4           Lipps, Inc                   Funkytown\n",
       "..                 ...                         ...\n",
       "995         The Police                   So Lonely\n",
       "996         Supertramp                     Dreamer\n",
       "997            Genesis            Misunderstanding\n",
       "998            Genesis            Turn It On Again\n",
       "999               Devo                     Whip It\n",
       "\n",
       "[1000 rows x 2 columns]"
      ]
     },
     "execution_count": 24,
     "metadata": {},
     "output_type": "execute_result"
    }
   ],
   "source": [
    "# Some Make Up - removing the '\\n' from the artists\n",
    "song2['artist'] = song2['artist'].str.replace('\\n','')\n",
    "song2"
   ]
  },
  {
   "cell_type": "code",
   "execution_count": null,
   "id": "bfecef64",
   "metadata": {},
   "outputs": [],
   "source": []
  }
 ],
 "metadata": {
  "kernelspec": {
   "display_name": "Python 3 (ipykernel)",
   "language": "python",
   "name": "python3"
  },
  "language_info": {
   "codemirror_mode": {
    "name": "ipython",
    "version": 3
   },
   "file_extension": ".py",
   "mimetype": "text/x-python",
   "name": "python",
   "nbconvert_exporter": "python",
   "pygments_lexer": "ipython3",
   "version": "3.9.12"
  }
 },
 "nbformat": 4,
 "nbformat_minor": 5
}
